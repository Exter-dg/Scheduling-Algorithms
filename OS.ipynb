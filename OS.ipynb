{
  "nbformat": 4,
  "nbformat_minor": 0,
  "metadata": {
    "colab": {
      "name": "OS.ipynb",
      "provenance": [],
      "collapsed_sections": [],
      "authorship_tag": "ABX9TyMUiS7FNPMAr92944H1ogl2",
      "include_colab_link": true
    },
    "kernelspec": {
      "name": "python3",
      "display_name": "Python 3"
    }
  },
  "cells": [
    {
      "cell_type": "markdown",
      "metadata": {
        "id": "view-in-github",
        "colab_type": "text"
      },
      "source": [
        "<a href=\"https://colab.research.google.com/github/Exter-dg/Scheduling-Algorithms/blob/master/OS.ipynb\" target=\"_parent\"><img src=\"https://colab.research.google.com/assets/colab-badge.svg\" alt=\"Open In Colab\"/></a>"
      ]
    },
    {
      "cell_type": "code",
      "metadata": {
        "id": "tUtgZnNz1wd8",
        "colab_type": "code",
        "colab": {}
      },
      "source": [
        "#1 FCFS\n",
        "#2 \n",
        "#3 Round-Robin\n",
        "\n",
        "\n",
        "def waitingTime(size,bt,at,wt):\n",
        "  sumTime = [0] * size\n",
        "  \n",
        "  for i in range(1,size):\n",
        "\n",
        "    sumTime[i] = sumTime[i-1] + bt[i-1]\n",
        "    wt[i] = sumTime[i] - at[i]\n",
        "\n",
        "    # when it arrives late and cpu is idle\n",
        "    if(wt[i] < 0):\n",
        "      wt[i] = 0\n",
        "\n",
        "def turnAroundTime(size,bt,wt,tat):\n",
        "  \n",
        "  for i in range(0,size):\n",
        "    tat[i] = wt[i] + bt[i]\n",
        "\n",
        "\n",
        "def avgTime(processes,size,bt,at):\n",
        "  wt = [0] * size\n",
        "  tat = [0] * size\n",
        "  ct = [0] * size\n",
        "\n",
        "  waitingTime(size,bt,at,wt)\n",
        "  turnAroundTime(size,bt,wt,tat)\n",
        "\n",
        "  totalWT=0\n",
        "  totalTAT=0\n",
        "\n",
        "  for i in range(0,size):\n",
        "    totalTAT = totalTAT + tat[i]\n",
        "    totalWT = totaltWT + wt[i]\n",
        "    ct[i] = tat[i] + at[i]\n",
        "\n",
        "  #TODO HERE\n",
        "  #print proper formatted table displaying all the info about fcfs\n",
        "  \n"
      ],
      "execution_count": 0,
      "outputs": []
    },
    {
      "cell_type": "code",
      "metadata": {
        "id": "9XvUhsYc8le1",
        "colab_type": "code",
        "colab": {}
      },
      "source": [
        "#2"
      ],
      "execution_count": 0,
      "outputs": []
    },
    {
      "cell_type": "code",
      "metadata": {
        "id": "membw-J-8mvm",
        "colab_type": "code",
        "colab": {}
      },
      "source": [
        "#3 Round Robin"
      ],
      "execution_count": 0,
      "outputs": []
    }
  ]
}