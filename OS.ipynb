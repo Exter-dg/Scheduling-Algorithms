{
  "nbformat": 4,
  "nbformat_minor": 0,
  "metadata": {
    "colab": {
      "name": "OS.ipynb",
      "provenance": [],
      "collapsed_sections": [],
      "include_colab_link": true
    },
    "kernelspec": {
      "name": "python3",
      "display_name": "Python 3"
    }
  },
  "cells": [
    {
      "cell_type": "markdown",
      "metadata": {
        "id": "view-in-github",
        "colab_type": "text"
      },
      "source": [
        "<a href=\"https://colab.research.google.com/github/Exter-dg/Scheduling-Algorithms/blob/master/OS.ipynb\" target=\"_parent\"><img src=\"https://colab.research.google.com/assets/colab-badge.svg\" alt=\"Open In Colab\"/></a>"
      ]
    },
    {
      "cell_type": "code",
      "metadata": {
        "id": "QrLfaoVUrJkF",
        "colab_type": "code",
        "colab": {
          "base_uri": "https://localhost:8080/",
          "height": 617
        },
        "outputId": "6a6f5f1b-962c-4e92-8444-1492b9aca943"
      },
      "source": [
        "import plotly.figure_factory as ff\n",
        "\n",
        "#Common function to generate gantt chart\n",
        "#refer https://plotly.com/python/gantt/\n",
        "\n",
        "def chart(lst):#pass parameter that will have 2 list with process id,start,end (for rr id,start1,end1,id,start2,end2)\n",
        "  df=[]\n",
        "  for a in lst:\n",
        "    df.append( dict(Task=a[0], Start=a[1] , Finish=a[2] ) )\n",
        "  fig = ff.create_gantt(df)\n",
        "  fig.show()\n",
        "\n",
        "chart( [[\"P1\",0,2],[\"P2\",2,4],[\"P1\",4,6],[\"P3\",7,9]] )"
      ],
      "execution_count": 1,
      "outputs": [
        {
          "output_type": "display_data",
          "data": {
            "text/html": [
              "<html>\n",
              "<head><meta charset=\"utf-8\" /></head>\n",
              "<body>\n",
              "    <div>\n",
              "            <script src=\"https://cdnjs.cloudflare.com/ajax/libs/mathjax/2.7.5/MathJax.js?config=TeX-AMS-MML_SVG\"></script><script type=\"text/javascript\">if (window.MathJax) {MathJax.Hub.Config({SVG: {font: \"STIX-Web\"}});}</script>\n",
              "                <script type=\"text/javascript\">window.PlotlyConfig = {MathJaxConfig: 'local'};</script>\n",
              "        <script src=\"https://cdn.plot.ly/plotly-latest.min.js\"></script>    \n",
              "            <div id=\"7a577c97-6cea-404e-a847-fa4466ddd9f9\" class=\"plotly-graph-div\" style=\"height:600px; width:100%;\"></div>\n",
              "            <script type=\"text/javascript\">\n",
              "                \n",
              "                    window.PLOTLYENV=window.PLOTLYENV || {};\n",
              "                    \n",
              "                if (document.getElementById(\"7a577c97-6cea-404e-a847-fa4466ddd9f9\")) {\n",
              "                    Plotly.newPlot(\n",
              "                        '7a577c97-6cea-404e-a847-fa4466ddd9f9',\n",
              "                        [{\"fill\": \"toself\", \"fillcolor\": \"rgb(214, 39, 40)\", \"hoverinfo\": \"name\", \"legendgroup\": \"rgb(214, 39, 40)\", \"mode\": \"none\", \"name\": \"P3\", \"type\": \"scatter\", \"x\": [7, 9, 9, 7], \"y\": [2.8, 2.8, 3.2, 3.2]}, {\"fill\": \"toself\", \"fillcolor\": \"rgb(255, 127, 14)\", \"hoverinfo\": \"name\", \"legendgroup\": \"rgb(255, 127, 14)\", \"mode\": \"none\", \"name\": \"P2\", \"type\": \"scatter\", \"x\": [2, 4, 4, 2], \"y\": [0.8, 0.8, 1.2, 1.2]}, {\"fill\": \"toself\", \"fillcolor\": \"rgb(31, 119, 180)\", \"hoverinfo\": \"name\", \"legendgroup\": \"rgb(31, 119, 180)\", \"mode\": \"none\", \"name\": \"P1\", \"type\": \"scatter\", \"x\": [0, 2, 2, 0], \"y\": [-0.2, -0.2, 0.2, 0.2]}, {\"fill\": \"toself\", \"fillcolor\": \"rgb(44, 160, 44)\", \"hoverinfo\": \"name\", \"legendgroup\": \"rgb(44, 160, 44)\", \"mode\": \"none\", \"name\": \"P1\", \"type\": \"scatter\", \"x\": [4, 6, 6, 4], \"y\": [1.8, 1.8, 2.2, 2.2]}, {\"legendgroup\": \"rgb(214, 39, 40)\", \"marker\": {\"color\": \"rgb(214, 39, 40)\", \"opacity\": 0, \"size\": 1}, \"mode\": \"markers\", \"name\": \"\", \"showlegend\": false, \"text\": [null, null], \"type\": \"scatter\", \"x\": [7, 9], \"y\": [3, 3]}, {\"legendgroup\": \"rgb(255, 127, 14)\", \"marker\": {\"color\": \"rgb(255, 127, 14)\", \"opacity\": 0, \"size\": 1}, \"mode\": \"markers\", \"name\": \"\", \"showlegend\": false, \"text\": [null, null], \"type\": \"scatter\", \"x\": [2, 4], \"y\": [1, 1]}, {\"legendgroup\": \"rgb(31, 119, 180)\", \"marker\": {\"color\": \"rgb(31, 119, 180)\", \"opacity\": 0, \"size\": 1}, \"mode\": \"markers\", \"name\": \"\", \"showlegend\": false, \"text\": [null, null], \"type\": \"scatter\", \"x\": [0, 2], \"y\": [0, 0]}, {\"legendgroup\": \"rgb(44, 160, 44)\", \"marker\": {\"color\": \"rgb(44, 160, 44)\", \"opacity\": 0, \"size\": 1}, \"mode\": \"markers\", \"name\": \"\", \"showlegend\": false, \"text\": [null, null], \"type\": \"scatter\", \"x\": [4, 6], \"y\": [2, 2]}],\n",
              "                        {\"height\": 600, \"hovermode\": \"closest\", \"showlegend\": false, \"template\": {\"data\": {\"bar\": [{\"error_x\": {\"color\": \"#2a3f5f\"}, \"error_y\": {\"color\": \"#2a3f5f\"}, \"marker\": {\"line\": {\"color\": \"#E5ECF6\", \"width\": 0.5}}, \"type\": \"bar\"}], \"barpolar\": [{\"marker\": {\"line\": {\"color\": \"#E5ECF6\", \"width\": 0.5}}, \"type\": \"barpolar\"}], \"carpet\": [{\"aaxis\": {\"endlinecolor\": \"#2a3f5f\", \"gridcolor\": \"white\", \"linecolor\": \"white\", \"minorgridcolor\": \"white\", \"startlinecolor\": \"#2a3f5f\"}, \"baxis\": {\"endlinecolor\": \"#2a3f5f\", \"gridcolor\": \"white\", \"linecolor\": \"white\", \"minorgridcolor\": \"white\", \"startlinecolor\": \"#2a3f5f\"}, \"type\": \"carpet\"}], \"choropleth\": [{\"colorbar\": {\"outlinewidth\": 0, \"ticks\": \"\"}, \"type\": \"choropleth\"}], \"contour\": [{\"colorbar\": {\"outlinewidth\": 0, \"ticks\": \"\"}, \"colorscale\": [[0.0, \"#0d0887\"], [0.1111111111111111, \"#46039f\"], [0.2222222222222222, \"#7201a8\"], [0.3333333333333333, \"#9c179e\"], [0.4444444444444444, \"#bd3786\"], [0.5555555555555556, \"#d8576b\"], [0.6666666666666666, \"#ed7953\"], [0.7777777777777778, \"#fb9f3a\"], [0.8888888888888888, \"#fdca26\"], [1.0, \"#f0f921\"]], \"type\": \"contour\"}], \"contourcarpet\": [{\"colorbar\": {\"outlinewidth\": 0, \"ticks\": \"\"}, \"type\": \"contourcarpet\"}], \"heatmap\": [{\"colorbar\": {\"outlinewidth\": 0, \"ticks\": \"\"}, \"colorscale\": [[0.0, \"#0d0887\"], [0.1111111111111111, \"#46039f\"], [0.2222222222222222, \"#7201a8\"], [0.3333333333333333, \"#9c179e\"], [0.4444444444444444, \"#bd3786\"], [0.5555555555555556, \"#d8576b\"], [0.6666666666666666, \"#ed7953\"], [0.7777777777777778, \"#fb9f3a\"], [0.8888888888888888, \"#fdca26\"], [1.0, \"#f0f921\"]], \"type\": \"heatmap\"}], \"heatmapgl\": [{\"colorbar\": {\"outlinewidth\": 0, \"ticks\": \"\"}, \"colorscale\": [[0.0, \"#0d0887\"], [0.1111111111111111, \"#46039f\"], [0.2222222222222222, \"#7201a8\"], [0.3333333333333333, \"#9c179e\"], [0.4444444444444444, \"#bd3786\"], [0.5555555555555556, \"#d8576b\"], [0.6666666666666666, \"#ed7953\"], [0.7777777777777778, \"#fb9f3a\"], [0.8888888888888888, \"#fdca26\"], [1.0, \"#f0f921\"]], \"type\": \"heatmapgl\"}], \"histogram\": [{\"marker\": {\"colorbar\": {\"outlinewidth\": 0, \"ticks\": \"\"}}, \"type\": \"histogram\"}], \"histogram2d\": [{\"colorbar\": {\"outlinewidth\": 0, \"ticks\": \"\"}, \"colorscale\": [[0.0, \"#0d0887\"], [0.1111111111111111, \"#46039f\"], [0.2222222222222222, \"#7201a8\"], [0.3333333333333333, \"#9c179e\"], [0.4444444444444444, \"#bd3786\"], [0.5555555555555556, \"#d8576b\"], [0.6666666666666666, \"#ed7953\"], [0.7777777777777778, \"#fb9f3a\"], [0.8888888888888888, \"#fdca26\"], [1.0, \"#f0f921\"]], \"type\": \"histogram2d\"}], \"histogram2dcontour\": [{\"colorbar\": {\"outlinewidth\": 0, \"ticks\": \"\"}, \"colorscale\": [[0.0, \"#0d0887\"], [0.1111111111111111, \"#46039f\"], [0.2222222222222222, \"#7201a8\"], [0.3333333333333333, \"#9c179e\"], [0.4444444444444444, \"#bd3786\"], [0.5555555555555556, \"#d8576b\"], [0.6666666666666666, \"#ed7953\"], [0.7777777777777778, \"#fb9f3a\"], [0.8888888888888888, \"#fdca26\"], [1.0, \"#f0f921\"]], \"type\": \"histogram2dcontour\"}], \"mesh3d\": [{\"colorbar\": {\"outlinewidth\": 0, \"ticks\": \"\"}, \"type\": \"mesh3d\"}], \"parcoords\": [{\"line\": {\"colorbar\": {\"outlinewidth\": 0, \"ticks\": \"\"}}, \"type\": \"parcoords\"}], \"pie\": [{\"automargin\": true, \"type\": \"pie\"}], \"scatter\": [{\"marker\": {\"colorbar\": {\"outlinewidth\": 0, \"ticks\": \"\"}}, \"type\": \"scatter\"}], \"scatter3d\": [{\"line\": {\"colorbar\": {\"outlinewidth\": 0, \"ticks\": \"\"}}, \"marker\": {\"colorbar\": {\"outlinewidth\": 0, \"ticks\": \"\"}}, \"type\": \"scatter3d\"}], \"scattercarpet\": [{\"marker\": {\"colorbar\": {\"outlinewidth\": 0, \"ticks\": \"\"}}, \"type\": \"scattercarpet\"}], \"scattergeo\": [{\"marker\": {\"colorbar\": {\"outlinewidth\": 0, \"ticks\": \"\"}}, \"type\": \"scattergeo\"}], \"scattergl\": [{\"marker\": {\"colorbar\": {\"outlinewidth\": 0, \"ticks\": \"\"}}, \"type\": \"scattergl\"}], \"scattermapbox\": [{\"marker\": {\"colorbar\": {\"outlinewidth\": 0, \"ticks\": \"\"}}, \"type\": \"scattermapbox\"}], \"scatterpolar\": [{\"marker\": {\"colorbar\": {\"outlinewidth\": 0, \"ticks\": \"\"}}, \"type\": \"scatterpolar\"}], \"scatterpolargl\": [{\"marker\": {\"colorbar\": {\"outlinewidth\": 0, \"ticks\": \"\"}}, \"type\": \"scatterpolargl\"}], \"scatterternary\": [{\"marker\": {\"colorbar\": {\"outlinewidth\": 0, \"ticks\": \"\"}}, \"type\": \"scatterternary\"}], \"surface\": [{\"colorbar\": {\"outlinewidth\": 0, \"ticks\": \"\"}, \"colorscale\": [[0.0, \"#0d0887\"], [0.1111111111111111, \"#46039f\"], [0.2222222222222222, \"#7201a8\"], [0.3333333333333333, \"#9c179e\"], [0.4444444444444444, \"#bd3786\"], [0.5555555555555556, \"#d8576b\"], [0.6666666666666666, \"#ed7953\"], [0.7777777777777778, \"#fb9f3a\"], [0.8888888888888888, \"#fdca26\"], [1.0, \"#f0f921\"]], \"type\": \"surface\"}], \"table\": [{\"cells\": {\"fill\": {\"color\": \"#EBF0F8\"}, \"line\": {\"color\": \"white\"}}, \"header\": {\"fill\": {\"color\": \"#C8D4E3\"}, \"line\": {\"color\": \"white\"}}, \"type\": \"table\"}]}, \"layout\": {\"annotationdefaults\": {\"arrowcolor\": \"#2a3f5f\", \"arrowhead\": 0, \"arrowwidth\": 1}, \"coloraxis\": {\"colorbar\": {\"outlinewidth\": 0, \"ticks\": \"\"}}, \"colorscale\": {\"diverging\": [[0, \"#8e0152\"], [0.1, \"#c51b7d\"], [0.2, \"#de77ae\"], [0.3, \"#f1b6da\"], [0.4, \"#fde0ef\"], [0.5, \"#f7f7f7\"], [0.6, \"#e6f5d0\"], [0.7, \"#b8e186\"], [0.8, \"#7fbc41\"], [0.9, \"#4d9221\"], [1, \"#276419\"]], \"sequential\": [[0.0, \"#0d0887\"], [0.1111111111111111, \"#46039f\"], [0.2222222222222222, \"#7201a8\"], [0.3333333333333333, \"#9c179e\"], [0.4444444444444444, \"#bd3786\"], [0.5555555555555556, \"#d8576b\"], [0.6666666666666666, \"#ed7953\"], [0.7777777777777778, \"#fb9f3a\"], [0.8888888888888888, \"#fdca26\"], [1.0, \"#f0f921\"]], \"sequentialminus\": [[0.0, \"#0d0887\"], [0.1111111111111111, \"#46039f\"], [0.2222222222222222, \"#7201a8\"], [0.3333333333333333, \"#9c179e\"], [0.4444444444444444, \"#bd3786\"], [0.5555555555555556, \"#d8576b\"], [0.6666666666666666, \"#ed7953\"], [0.7777777777777778, \"#fb9f3a\"], [0.8888888888888888, \"#fdca26\"], [1.0, \"#f0f921\"]]}, \"colorway\": [\"#636efa\", \"#EF553B\", \"#00cc96\", \"#ab63fa\", \"#FFA15A\", \"#19d3f3\", \"#FF6692\", \"#B6E880\", \"#FF97FF\", \"#FECB52\"], \"font\": {\"color\": \"#2a3f5f\"}, \"geo\": {\"bgcolor\": \"white\", \"lakecolor\": \"white\", \"landcolor\": \"#E5ECF6\", \"showlakes\": true, \"showland\": true, \"subunitcolor\": \"white\"}, \"hoverlabel\": {\"align\": \"left\"}, \"hovermode\": \"closest\", \"mapbox\": {\"style\": \"light\"}, \"paper_bgcolor\": \"white\", \"plot_bgcolor\": \"#E5ECF6\", \"polar\": {\"angularaxis\": {\"gridcolor\": \"white\", \"linecolor\": \"white\", \"ticks\": \"\"}, \"bgcolor\": \"#E5ECF6\", \"radialaxis\": {\"gridcolor\": \"white\", \"linecolor\": \"white\", \"ticks\": \"\"}}, \"scene\": {\"xaxis\": {\"backgroundcolor\": \"#E5ECF6\", \"gridcolor\": \"white\", \"gridwidth\": 2, \"linecolor\": \"white\", \"showbackground\": true, \"ticks\": \"\", \"zerolinecolor\": \"white\"}, \"yaxis\": {\"backgroundcolor\": \"#E5ECF6\", \"gridcolor\": \"white\", \"gridwidth\": 2, \"linecolor\": \"white\", \"showbackground\": true, \"ticks\": \"\", \"zerolinecolor\": \"white\"}, \"zaxis\": {\"backgroundcolor\": \"#E5ECF6\", \"gridcolor\": \"white\", \"gridwidth\": 2, \"linecolor\": \"white\", \"showbackground\": true, \"ticks\": \"\", \"zerolinecolor\": \"white\"}}, \"shapedefaults\": {\"line\": {\"color\": \"#2a3f5f\"}}, \"ternary\": {\"aaxis\": {\"gridcolor\": \"white\", \"linecolor\": \"white\", \"ticks\": \"\"}, \"baxis\": {\"gridcolor\": \"white\", \"linecolor\": \"white\", \"ticks\": \"\"}, \"bgcolor\": \"#E5ECF6\", \"caxis\": {\"gridcolor\": \"white\", \"linecolor\": \"white\", \"ticks\": \"\"}}, \"title\": {\"x\": 0.05}, \"xaxis\": {\"automargin\": true, \"gridcolor\": \"white\", \"linecolor\": \"white\", \"ticks\": \"\", \"title\": {\"standoff\": 15}, \"zerolinecolor\": \"white\", \"zerolinewidth\": 2}, \"yaxis\": {\"automargin\": true, \"gridcolor\": \"white\", \"linecolor\": \"white\", \"ticks\": \"\", \"title\": {\"standoff\": 15}, \"zerolinecolor\": \"white\", \"zerolinewidth\": 2}}}, \"title\": {\"text\": \"Gantt Chart\"}, \"xaxis\": {\"rangeselector\": {\"buttons\": [{\"count\": 7, \"label\": \"1w\", \"step\": \"day\", \"stepmode\": \"backward\"}, {\"count\": 1, \"label\": \"1m\", \"step\": \"month\", \"stepmode\": \"backward\"}, {\"count\": 6, \"label\": \"6m\", \"step\": \"month\", \"stepmode\": \"backward\"}, {\"count\": 1, \"label\": \"YTD\", \"step\": \"year\", \"stepmode\": \"todate\"}, {\"count\": 1, \"label\": \"1y\", \"step\": \"year\", \"stepmode\": \"backward\"}, {\"step\": \"all\"}]}, \"showgrid\": false, \"type\": \"date\", \"zeroline\": false}, \"yaxis\": {\"autorange\": false, \"range\": [-1, 5], \"showgrid\": false, \"ticktext\": [\"P1\", \"P2\", \"P1\", \"P3\"], \"tickvals\": [0, 1, 2, 3], \"zeroline\": false}},\n",
              "                        {\"responsive\": true}\n",
              "                    ).then(function(){\n",
              "                            \n",
              "var gd = document.getElementById('7a577c97-6cea-404e-a847-fa4466ddd9f9');\n",
              "var x = new MutationObserver(function (mutations, observer) {{\n",
              "        var display = window.getComputedStyle(gd).display;\n",
              "        if (!display || display === 'none') {{\n",
              "            console.log([gd, 'removed!']);\n",
              "            Plotly.purge(gd);\n",
              "            observer.disconnect();\n",
              "        }}\n",
              "}});\n",
              "\n",
              "// Listen for the removal of the full notebook cells\n",
              "var notebookContainer = gd.closest('#notebook-container');\n",
              "if (notebookContainer) {{\n",
              "    x.observe(notebookContainer, {childList: true});\n",
              "}}\n",
              "\n",
              "// Listen for the clearing of the current output cell\n",
              "var outputEl = gd.closest('.output');\n",
              "if (outputEl) {{\n",
              "    x.observe(outputEl, {childList: true});\n",
              "}}\n",
              "\n",
              "                        })\n",
              "                };\n",
              "                \n",
              "            </script>\n",
              "        </div>\n",
              "</body>\n",
              "</html>"
            ]
          },
          "metadata": {
            "tags": []
          }
        }
      ]
    },
    {
      "cell_type": "code",
      "metadata": {
        "id": "tUtgZnNz1wd8",
        "colab_type": "code",
        "colab": {}
      },
      "source": [
        "#1 FCFS\n",
        "#2 Priority Scheduling\n",
        "#3 Round-Robin\n",
        "\n",
        "def turnAroundTime(size,bt,wt,tat):\n",
        "  \n",
        "  for i in range(0,size):\n",
        "    tat[i] = wt[i] + bt[i]\n",
        "\n",
        "\n",
        "\n",
        "\n",
        "def fcfsWaitingTime(size,bt,at,wt):\n",
        "  sumTime = [0] * size\n",
        "  \n",
        "  for i in range(1,size):\n",
        "\n",
        "    sumTime[i] = sumTime[i-1] + bt[i-1]\n",
        "    wt[i] = sumTime[i] - at[i]\n",
        "\n",
        "    # when it arrives late and cpu is idle\n",
        "    if(wt[i] < 0):\n",
        "      wt[i] = 0\n",
        "\n",
        "\n",
        "\n",
        "def fcfsAvgTime(size,bt,at):\n",
        "  wt = [0] * size\n",
        "  tat = [0] * size\n",
        "  ct = [0] * size\n",
        "\n",
        "  fcfsWaitingTime(size,bt,at,wt)\n",
        "  turnAroundTime(size,bt,wt,tat)\n",
        "\n",
        "  totalWT=0\n",
        "  totalTAT=0\n",
        "\n",
        "  for i in range(0,size):\n",
        "    totalTAT = totalTAT + tat[i]\n",
        "    totalWT = totalWT + wt[i]\n",
        "    ct[i] = tat[i] + at[i]\n",
        "\n",
        "  #TODO HERE\n",
        "  #print proper formatted table displaying all the info about fcfs\n",
        " \n",
        "  \n",
        "  avgWT = totalWT/size\n",
        "  avgTAT = totalTAT/size\n",
        "  print(avgWT)\n",
        "  print(avgTAT)\n",
        "  \n"
      ],
      "execution_count": 0,
      "outputs": []
    },
    {
      "cell_type": "code",
      "metadata": {
        "id": "9XvUhsYc8le1",
        "colab_type": "code",
        "colab": {}
      },
      "source": [
        "#2 Priority Scheduling - Non preemtive and AT for all 0\n",
        "# sort and then fcfs\n",
        "#https://www.geeksforgeeks.org/ways-sort-list-dictionaries-values-python-using-lambda-function/\n",
        "\n",
        "def priorityScheduler(processes,size):\n",
        "  processes = sorted(processes , key = lambda processes:processes[1] , reverse = True)\n",
        "  at = [0] * size\n",
        "  bt = [0] * size\n",
        "  for i in processes:\n",
        "    bt[i] = i[1]\n",
        "  fcfsAvgTime(size,bt,at)\n"
      ],
      "execution_count": 0,
      "outputs": []
    },
    {
      "cell_type": "code",
      "metadata": {
        "id": "membw-J-8mvm",
        "colab_type": "code",
        "colab": {}
      },
      "source": [
        "#3 Round Robin Scheduling\n",
        "#at 2 5 6 6 \n",
        "#bt 3 3 2 1\n",
        "#q 2\n",
        "#pop from at when \n",
        "\n",
        "#ready queue - > first check arrival time and put processes here \n",
        "#running queue-> one by one run then back to ready but first check for arrival\n",
        "\n",
        "#need to store remaining bt too (store processes with id) \n",
        "\n",
        "\n",
        "from collections import deque \n",
        "\n",
        "\n",
        "def rrCompletionTime(size,at,ct,q):\n",
        "\n",
        "  #at has id,at,bt\n",
        "  #(4, at = [[0,0,10],[1,1,4],[2,2,5],[3,3,3]], ,3)\n",
        "  readyQueue = deque()\n",
        "  runningQueue = deque()\n",
        "  t = 0\n",
        "  while(True):\n",
        "    \n",
        "    while( len(at) != 0 and at[0][1]<=t ):#process has arrived \n",
        "      readyQueue.append(at.pop(0))\n",
        "\n",
        "    if(len(readyQueue) == 0):\n",
        "      t=t+1\n",
        "      continue\n",
        "      \n",
        "    runningQueue.append(readyQueue.popleft())\n",
        "\n",
        "    if( runningQueue[0][2] > q ):\n",
        "      runningQueue[0][2]-=q\n",
        "      t+=q\n",
        "    \n",
        "      \n",
        "      while( len(at) != 0 and at[0][1]<=t):\n",
        "        readyQueue.append(at.pop(0))\n",
        "      if( runningQueue[0][2]==0 ): # when burst time left = quantum\n",
        "        ct[runningQueue[0][0]]=t\n",
        "        temp=runningQueue.popleft()\n",
        "      else:\n",
        "        readyQueue.append(runningQueue.popleft())\n",
        "\n",
        "    else:\n",
        "      t+=runningQueue[0][2]\n",
        "      ct[runningQueue[0][0]]=t\n",
        "      temp=runningQueue.popleft()\n",
        "      #print(ct[runningQueue[0][0]])\n",
        "      while( len(at) != 0 and at[0][1]<=t):\n",
        "        readyQueue.append(at.pop(0))\n",
        "    \n",
        "    if(len(at)==0 and len(readyQueue)==0):\n",
        "      break;\n",
        "\n",
        "\n",
        "\n",
        "def rrTurnAroundTime(size,at,tat,ct):\n",
        "  for i in range(size):\n",
        "    tat[i] = ct[i] - at[i][1]\n",
        "\n",
        "\n",
        "\n",
        "def rrWaitingTime(size,wt,tat,at):\n",
        "  for i in range(size):\n",
        "    wt[i] = tat[i] - at[i][2];\n",
        "\n",
        "\n",
        "\n",
        "def rrAvgTime(size,at,quantum):\n",
        "\n",
        "  wt = [0] * size\n",
        "  tat = [0] * size\n",
        "  ct = [0] * size\n",
        "  tempAT=[0] * size\n",
        "  for i in range(size):\n",
        "    tempAT[i]=at[i]\n",
        "    #print(at[i])\n",
        "  print(tempAT)\n",
        "  rrCompletionTime(size,tempAT,ct,quantum)\n",
        "  rrWaitingTime(size,wt,tat,at)\n",
        "  rrTurnAroundTime(size,at,tat,ct)\n",
        "\n",
        "  print(ct)"
      ],
      "execution_count": 0,
      "outputs": []
    },
    {
      "cell_type": "code",
      "metadata": {
        "id": "aDAygtc2IyC7",
        "colab_type": "code",
        "outputId": "395d7986-688f-4bf9-b689-68b41033aa6d",
        "colab": {
          "base_uri": "https://localhost:8080/",
          "height": 248
        }
      },
      "source": [
        "#main\n",
        "#TODO main\n",
        "\n",
        "option = 0\n",
        "\n",
        "print(\"-----------------------------\") \n",
        "print(\"CPU Scheduling Algorithms: \" )\n",
        "print(\"-----------------------------\") \n",
        "print(\"1. First Come First Serve\") \n",
        "print(\"2. Non-Preemtive Priority Scheduling\") \n",
        "print( \"3. Round Robin\")\n",
        "print(\"4. \") \n",
        "print( \"-----------------------------\") \n",
        "print(\"Select > \",end=\" \") \n",
        "option = int(input())\n",
        "print(\"-----------------------------\") \n",
        "\n",
        "if option is  1:\n",
        "  print(\"here\")\n",
        "  fcfsAvgTime(3,[5,9,6],[0,3,6])\n",
        "\n",
        "elif option is 2:\n",
        "  print(\"2\")\n",
        "  priorityScheduler([],3)\n",
        "\n",
        "elif option is 3:\n",
        "  print(\"3\")\n",
        "  #pass at list as [id,at,bt]\n",
        "  rrAvgTime(3,[[0,1,4],[1,2,5],[2,3,2]],2)\n",
        "\n",
        "elif option is 4:\n",
        "  print(\"4\")\n",
        "else:\n",
        "  print(\"Wrong Input\")\n"
      ],
      "execution_count": 0,
      "outputs": [
        {
          "output_type": "stream",
          "text": [
            "-----------------------------\n",
            "CPU Scheduling Algorithms: \n",
            "-----------------------------\n",
            "1. First Come First Serve\n",
            "2. Non-Preemtive Priority Scheduling\n",
            "3. Round Robin\n",
            "4. \n",
            "-----------------------------\n",
            "Select >  3\n",
            "-----------------------------\n",
            "3\n",
            "[[0, 1, 4], [1, 2, 5], [2, 3, 2]]\n",
            "[9, 12, 7]\n"
          ],
          "name": "stdout"
        }
      ]
    },
    {
      "cell_type": "code",
      "metadata": {
        "id": "8boEmQpEEE0T",
        "colab_type": "code",
        "outputId": "6edc6f3a-566c-452c-a41c-385df0837590",
        "colab": {
          "base_uri": "https://localhost:8080/",
          "height": 70
        }
      },
      "source": [
        "a = deque()\n",
        "a.append(1)\n",
        "a.append(2)\n",
        "print(a)\n",
        "a.popleft()\n",
        "print(a)\n",
        "a.append(1)\n",
        "print(a)"
      ],
      "execution_count": 0,
      "outputs": [
        {
          "output_type": "stream",
          "text": [
            "deque([1, 2])\n",
            "deque([2])\n",
            "deque([2, 1])\n"
          ],
          "name": "stdout"
        }
      ]
    }
  ]
}