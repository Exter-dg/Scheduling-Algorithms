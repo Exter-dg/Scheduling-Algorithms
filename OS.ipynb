{
  "nbformat": 4,
  "nbformat_minor": 0,
  "metadata": {
    "colab": {
      "name": "OS.ipynb",
      "provenance": [],
      "authorship_tag": "ABX9TyMSZPsSIVqY/19NKLUvKTfY",
      "include_colab_link": true
    },
    "kernelspec": {
      "name": "python3",
      "display_name": "Python 3"
    }
  },
  "cells": [
    {
      "cell_type": "markdown",
      "metadata": {
        "id": "view-in-github",
        "colab_type": "text"
      },
      "source": [
        "<a href=\"https://colab.research.google.com/github/khushi2912/Scheduling-Algorithms/blob/master/OS.ipynb\" target=\"_parent\"><img src=\"https://colab.research.google.com/assets/colab-badge.svg\" alt=\"Open In Colab\"/></a>"
      ]
    },
    {
      "cell_type": "code",
      "metadata": {
        "id": "Imie-ZSVPuU5",
        "colab_type": "code",
        "colab": {}
      },
      "source": [
        "#1 FCFS\n",
        "#2 Priority Scheduling\n",
        "#3 Round-Robin\n",
        "\n",
        "def turnAroundTime(size,bt,wt,tat):\n",
        "  \n",
        "  for i in range(0,size):\n",
        "    tat[i] = wt[i] + bt[i]\n",
        "\n",
        "\n",
        "\n",
        "\n",
        "def fcfsWaitingTime(size,bt,at,wt):\n",
        "  sumTime = [0] * size\n",
        "  \n",
        "  for i in range(1,size):\n",
        "\n",
        "    sumTime[i] = sumTime[i-1] + bt[i-1]\n",
        "    wt[i] = sumTime[i] - at[i]\n",
        "\n",
        "    # when it arrives late and cpu is idle\n",
        "    if(wt[i] < 0):\n",
        "      wt[i] = 0\n",
        "\n",
        "\n",
        "\n",
        "def fcfsAvgTime(size,bt,at):\n",
        "  wt = [0] * size\n",
        "  tat = [0] * size\n",
        "  ct = [0] * size\n",
        "\n",
        "  fcfsWaitingTime(size,bt,at,wt)\n",
        "  turnAroundTime(size,bt,wt,tat)\n",
        "\n",
        "  totalWT=0\n",
        "  totalTAT=0\n",
        "\n",
        "  for i in range(0,size):\n",
        "    totalTAT = totalTAT + tat[i]\n",
        "    totalWT = totalWT + wt[i]\n",
        "    ct[i] = tat[i] + at[i]\n",
        "\n",
        "  print(\"PID\\t\\tArrival Time\\t\\tBurst Time\\t\\tCompletion Time\\t\\tTurnaround Time\\t\\tWaiting Time\")\n",
        "  print(\"---------------------------------------------------------------------------------------------------------------------------------\")\n",
        "  for i in range(1,size+1):\n",
        "    print(\"%d\\t\\t\\t%d\\t\\t\\t%d\\t\\t\\t%d\\t\\t\\t%d\\t\\t\\t%d\"%(i,at[i-1],bt[i-1],ct[i-1],tat[i-1],wt[i-1]))\n",
        " \n",
        "  avgWT = totalWT/size\n",
        "  avgTAT = totalTAT/size\n",
        "  print(\"\\nAverage waiting time is %s seconds.\"%avgWT)\n",
        "  print(\"Average turnaround time is %s seconds.\"%avgTAT)\n",
        "  \n"
      ],
      "execution_count": 0,
      "outputs": []
    },
    {
      "cell_type": "code",
      "metadata": {
        "id": "KvwlADHqXKnk",
        "colab_type": "code",
        "colab": {}
      },
      "source": [
        "#2 Priority Scheduling - Non preemtive and AT for all 0\n",
        "# sort and then fcfs\n",
        "#https://www.geeksforgeeks.org/ways-sort-list-dictionaries-values-python-using-lambda-function/\n",
        "\n",
        "def priorityScheduler(processes,size):\n",
        "  processes = sorted(processes , key = lambda processes:processes[1] , reverse = True)\n",
        "  at = [0] * size\n",
        "  bt = [0] * size\n",
        "  for i in processes:\n",
        "    bt[i] = i[1]\n",
        "  fcfsAvgTime(size,bt,at)"
      ],
      "execution_count": 0,
      "outputs": []
    },
    {
      "cell_type": "code",
      "metadata": {
        "id": "sJv7jjNyXLcH",
        "colab_type": "code",
        "colab": {
          "base_uri": "https://localhost:8080/",
          "height": 347
        },
        "outputId": "1b2c9e1a-c6ee-4e74-9d4f-131615808663"
      },
      "source": [
        "\n",
        "option = 0\n",
        "\n",
        "print(\"-----------------------------\") \n",
        "print(\"CPU Scheduling Algorithms: \" )\n",
        "print(\"-----------------------------\") \n",
        "print(\"1. First Come First Serve\") \n",
        "print(\"2. Non-Preemtive Priority Scheduling\") \n",
        "print( \"3. Round Robin\")\n",
        "print(\"4. \") \n",
        "print( \"-----------------------------\") \n",
        "print(\"Select > \",end=\" \") \n",
        "option = int(input())\n",
        "print(\"-----------------------------\") \n",
        "\n",
        "if option is  1:\n",
        "  print(\"here\")\n",
        "  fcfsAvgTime(3,[5,9,6],[0,3,6])\n",
        "\n",
        "elif option is 2:\n",
        "  print(\"2\")\n",
        "  priorityScheduler([],3)\n",
        "\n",
        "elif option is 3:\n",
        "  print(\"3\")\n",
        "\n",
        "elif option is 4:\n",
        "  print(\"4\")\n",
        "else:\n",
        "  print(\"Wrong Input\")"
      ],
      "execution_count": 15,
      "outputs": [
        {
          "output_type": "stream",
          "text": [
            "-----------------------------\n",
            "CPU Scheduling Algorithms: \n",
            "-----------------------------\n",
            "1. First Come First Serve\n",
            "2. Non-Preemtive Priority Scheduling\n",
            "3. Round Robin\n",
            "4. \n",
            "-----------------------------\n",
            "Select >  1\n",
            "-----------------------------\n",
            "here\n",
            "PID\t\tArrival Time\t\tBurst Time\t\tCompletion Time\t\tTurnaround Time\t\tWaiting Time\n",
            "---------------------------------------------------------------------------------------------------------------------------------\n",
            "1\t\t\t0\t\t\t5\t\t\t5\t\t\t5\t\t\t0\n",
            "2\t\t\t3\t\t\t9\t\t\t14\t\t\t11\t\t\t2\n",
            "3\t\t\t6\t\t\t6\t\t\t20\t\t\t14\t\t\t8\n",
            "\n",
            "Average waiting time is 3.3333333333333335 seconds.\n",
            "Average turnaround time is 10.0 seconds.\n"
          ],
          "name": "stdout"
        }
      ]
    }
  ]
}